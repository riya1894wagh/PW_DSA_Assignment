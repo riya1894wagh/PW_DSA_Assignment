{
 "cells": [
  {
   "cell_type": "markdown",
   "id": "fb1558f5-c498-4518-9cee-70e58cde7e42",
   "metadata": {},
   "source": [
    "##  **Q1.** Given an array of integers nums and an integer target, return indices of the two numbers such that they add up to target.\n",
    "\n",
    "You may assume that each input would have exactly one solution, and you may not use the same element twice.\n",
    "\n",
    "You can return the answer in any order.\n",
    "\n",
    "**Example:**\n",
    "Input: nums = [2,7,11,15], target = 9\n",
    "Output0 [0,1]\n",
    "\n",
    "**Explanation:** Because nums[0] + nums[1] == 9, we return [0, 1][\n",
    "\n",
    " "
   ]
  },
  {
   "cell_type": "code",
   "execution_count": 1,
   "id": "ef079d7a-873e-43a5-b46d-717c9885292f",
   "metadata": {},
   "outputs": [],
   "source": [
    "def findIndex(nums,target):\n",
    "    for i in range(0,len(nums)):\n",
    "        if(target == nums[i] + nums[i+1]):\n",
    "            return i , i+1\n",
    "\n",
    "\n",
    " "
   ]
  },
  {
   "cell_type": "code",
   "execution_count": 2,
   "id": "9a6f63ec-279c-4a09-a960-943b3808d3ba",
   "metadata": {},
   "outputs": [
    {
     "name": "stdout",
     "output_type": "stream",
     "text": [
      "Output :  (0, 1)\n"
     ]
    }
   ],
   "source": [
    "nums = [2 , 7 , 11 , 15]\n",
    "target = 9\n",
    "\n",
    "result = findIndex(nums,target)\n",
    "print(\"Output : \" , result )"
   ]
  },
  {
   "cell_type": "markdown",
   "id": "90d50ae0-12d5-4077-b092-6ac0f645f0b3",
   "metadata": {},
   "source": [
    "\n",
    "## **Q2.** Given an integer array nums and an integer val, remove all occurrences of val in nums in-place. The order of the elements may be changed. Then return the number of elements in nums which are not equal to val.\n",
    "\n",
    "Consider the number of elements in nums which are not equal to val be k, to get accepted, you need to do the following things:\n",
    "\n",
    "- Change the array nums such that the first k elements of nums contain the elements which are not equal to val. The remaining elements of nums are not important as well as the size of nums.\n",
    "- Return k.\n",
    "\n",
    "**Example :**\n",
    "Input: nums = [3,2,2,3], val = 3\n",
    "Output: 2, nums = [2,2,_*,_*]\n",
    "\n",
    "**Explanation:** Your function should return k = 2, with the first two elements of nums being 2. It does not matter what you leave beyond the returned k (hence they are underscores)[\n",
    "\n",
    "</aside>"
   ]
  },
  {
   "cell_type": "code",
   "execution_count": 3,
   "id": "86a7547f-5a8c-4271-af50-1c78536c0d48",
   "metadata": {},
   "outputs": [],
   "source": [
    "def removeElement(nums, val):\n",
    "    \n",
    "    left = 0\n",
    "    right = len(nums) - 1\n",
    "\n",
    "    while left <= right:\n",
    "        if nums[left] == val:\n",
    "            nums[left], nums[right] = nums[right], nums[left]\n",
    "            right -= 1\n",
    "        else:\n",
    "            left += 1\n",
    "\n",
    "    return left\n"
   ]
  },
  {
   "cell_type": "code",
   "execution_count": 4,
   "id": "6a513feb-5e27-48a2-b1ce-eaac5762eda7",
   "metadata": {},
   "outputs": [
    {
     "name": "stdout",
     "output_type": "stream",
     "text": [
      "Output: 2\n",
      "nums: [2, 2, '*', '*']\n"
     ]
    }
   ],
   "source": [
    "nums = [3, 2, 2, 3]\n",
    "val = 3\n",
    "\n",
    "result = removeElement(nums, val)\n",
    "k = result\n",
    "for i in  range(0 , len(nums)):\n",
    "    if(k):\n",
    "        nums[i] = result \n",
    "        k = k-1\n",
    "    else:\n",
    "        nums[i] = \"*\"\n",
    "               \n",
    "print(\"Output:\", result)\n",
    "print(\"nums:\", nums)\n"
   ]
  },
  {
   "cell_type": "markdown",
   "id": "dd8d1190-5e17-48a2-947d-612361b089ba",
   "metadata": {},
   "source": [
    "## **Q3.** Given a sorted array of distinct integers and a target value, return the index if the target is found. If not, return the index where it would be if it were inserted in order.\n",
    "\n",
    "You must write an algorithm with O(log n) runtime complexity.\n",
    "\n",
    "**Example 1:**\n",
    "Input: nums = [1,3,5,6], target = 5\n",
    "\n",
    "Output: 2\n",
    "\n",
    " "
   ]
  },
  {
   "cell_type": "code",
   "execution_count": 5,
   "id": "7ffdf2be-26f7-4e9e-b0e3-9979b067f8f8",
   "metadata": {},
   "outputs": [],
   "source": [
    "def search(nums, target):\n",
    "    left = 0\n",
    "    right = len(nums) - 1\n",
    "\n",
    "    while left <= right:\n",
    "        mid = left + (right - left) // 2\n",
    "        if nums[mid] == target:\n",
    "            return mid\n",
    "        elif nums[mid] < target:\n",
    "            left = mid + 1\n",
    "        else:\n",
    "            right = mid - 1\n",
    "\n",
    "    return left"
   ]
  },
  {
   "cell_type": "code",
   "execution_count": 6,
   "id": "f9f0c5dd-2fa5-4bbe-a61a-337644f72bf4",
   "metadata": {},
   "outputs": [
    {
     "name": "stdout",
     "output_type": "stream",
     "text": [
      "Output: 2\n"
     ]
    }
   ],
   "source": [
    "nums = [1, 3, 5, 6]\n",
    "target = 5\n",
    "\n",
    "result = search(nums, target)\n",
    "print(\"Output:\", result)"
   ]
  },
  {
   "cell_type": "markdown",
   "id": "cb357b81-16ab-4c90-a50d-22f0ccc67b7e",
   "metadata": {},
   "source": [
    "## **Q4.** You are given a large integer represented as an integer array digits, where each digits[i] is the ith digit of the integer. The digits are ordered from most significant to least significant in left-to-right order. The large integer does not contain any leading 0's.\n",
    "\n",
    "Increment the large integer by one and return the resulting array of digits.\n",
    "\n",
    "**Example 1:**\n",
    "Input: digits = [1,2,3]\n",
    "Output: [1,2,4]\n",
    "\n",
    "**Explanation:** The array represents the integer 123.\n",
    "\n",
    "Incrementing by one gives 123 + 1 = 124.\n",
    "Thus, the result should be [1,2,4].\n",
    "\n",
    " "
   ]
  },
  {
   "cell_type": "code",
   "execution_count": 7,
   "id": "5716ed35-3672-4b1f-8e1c-8b97f668fb1c",
   "metadata": {},
   "outputs": [],
   "source": [
    " \n",
    "def increment(nums):\n",
    "    n = len(nums)\n",
    "    nums[n-1] = nums[n-1] + 1\n",
    "    return nums"
   ]
  },
  {
   "cell_type": "code",
   "execution_count": 8,
   "id": "c63b9a0c-ae56-409e-9ed7-57955ada7f86",
   "metadata": {},
   "outputs": [
    {
     "name": "stdout",
     "output_type": "stream",
     "text": [
      "Output:  [1, 2, 4]\n"
     ]
    }
   ],
   "source": [
    "digits = [1 , 2 ,3 ]\n",
    "result = increment(digits)\n",
    "print(\"Output: \",result)"
   ]
  },
  {
   "cell_type": "markdown",
   "id": "28623dc9-cb84-4990-af15-4b35d18a3c46",
   "metadata": {},
   "source": [
    "## **Q5.** You are given two integer arrays nums1 and nums2, sorted in non-decreasing order, and two integers m and n, representing the number of elements in nums1 and nums2 respectively.\n",
    "\n",
    "Merge nums1 and nums2 into a single array sorted in non-decreasing order.\n",
    "\n",
    "The final sorted array should not be returned by the function, but instead be stored inside the array nums1. To accommodate this, nums1 has a length of m + n, where the first m elements denote the elements that should be merged, and the last n elements are set to 0 and should be ignored. nums2 has a length of n.\n",
    "\n",
    "**Example 1:**\n",
    "Input: nums1 = [1,2,3,0,0,0], m = 3, nums2 = [2,5,6], n = 3\n",
    "Output: [1,2,2,3,5,6]\n",
    "\n",
    "**Explanation:** The arrays we are merging are [1,2,3] and [2,5,6].\n",
    "The result of the merge is [1,2,2,3,5,6] with the underlined elements coming from nums1.\n"
   ]
  },
  {
   "cell_type": "code",
   "execution_count": 9,
   "id": "a0fab4a2-5e0c-4b3c-acfc-d29329acf611",
   "metadata": {},
   "outputs": [],
   "source": [
    "def merge(nums1 , nums2 , m , n):\n",
    "    n = m+n\n",
    "    i  =  m\n",
    "    j=0\n",
    "    for i in range(i,n+1):\n",
    "            nums1[i] = nums2[j]\n",
    "            j=j+1\n",
    "    return nums1\n",
    "    "
   ]
  },
  {
   "cell_type": "code",
   "execution_count": 10,
   "id": "38c3ee51-2c1b-491c-99c5-d36a660109c9",
   "metadata": {},
   "outputs": [
    {
     "name": "stdout",
     "output_type": "stream",
     "text": [
      "Output:  [1, 2, 2, 3, 5, 6]\n"
     ]
    }
   ],
   "source": [
    "num1 = [1 , 2 , 3 , 0 , 0 , 0]\n",
    "num2 = [2 , 5 , 6]\n",
    "m = 3\n",
    "n = 2\n",
    "result = merge(num1 , num2 , m , n)\n",
    "result.sort()\n",
    "print(\"Output: \",result)"
   ]
  },
  {
   "cell_type": "markdown",
   "id": "78c7ffb9-d1ed-4102-a37e-b28d33d1d077",
   "metadata": {},
   "source": [
    "## **Q6.** Given an integer array nums, return true if any value appears at least twice in the array, and return false if every element is distinct.\n",
    "\n",
    "**Example 1:**\n",
    "Input: nums = [1,2,3,1]\n",
    "\n",
    "Output: true\n"
   ]
  },
  {
   "cell_type": "code",
   "execution_count": 11,
   "id": "5730fabc-6eb2-4b26-b5c5-ffa2d8ca0df8",
   "metadata": {},
   "outputs": [],
   "source": [
    "def find_dublicate(nums):\n",
    "    nums.sort()\n",
    "    for i in range(0,len(nums)):\n",
    "        if(nums[i] == nums[(i+1)%len(nums)]):\n",
    "            return True\n",
    "    return False"
   ]
  },
  {
   "cell_type": "code",
   "execution_count": 12,
   "id": "7eb2b45c-79d6-40a5-9130-97bfd21b1315",
   "metadata": {},
   "outputs": [
    {
     "name": "stdout",
     "output_type": "stream",
     "text": [
      "Output:  True\n"
     ]
    }
   ],
   "source": [
    "nums = [1,2,3,1]\n",
    "result = find_dublicate(nums)\n",
    "print(\"Output: \",result)"
   ]
  },
  {
   "cell_type": "markdown",
   "id": "d95e6673-6841-4fab-a743-e80fca1cac73",
   "metadata": {},
   "source": [
    "##  **Q7.** Given an integer array nums, move all 0's to the end of it while maintaining the relative order of the nonzero elements.\n",
    "\n",
    "Note that you must do this in-place without making a copy of the array.\n",
    "\n",
    "**Example 1:**\n",
    "Input: nums = [0,1,0,3,12]\n",
    "Output: [1,3,12,0,0]\n",
    "\n",
    " "
   ]
  },
  {
   "cell_type": "code",
   "execution_count": 13,
   "id": "3d15cdd1-c144-4375-a990-2bce62712d80",
   "metadata": {},
   "outputs": [],
   "source": [
    "def move_0(nums):\n",
    "    result = [0]*len(nums)\n",
    "    j = 0\n",
    "    for i in range(0,len(nums)):\n",
    "        if(nums[i] != 0):\n",
    "            result[j] = nums[i] \n",
    "            j = j + 1\n",
    "    return result\n",
    "     "
   ]
  },
  {
   "cell_type": "code",
   "execution_count": 14,
   "id": "93903f93-0b39-4aed-a44f-385c9340affc",
   "metadata": {},
   "outputs": [
    {
     "name": "stdout",
     "output_type": "stream",
     "text": [
      "Output:  [1, 3, 12, 0, 0]\n"
     ]
    }
   ],
   "source": [
    "nums = [ 0 , 1 , 0 , 3 , 12]\n",
    "result = move_0(nums)\n",
    "print(\"Output: \",result)"
   ]
  },
  {
   "cell_type": "markdown",
   "id": "afc34c72-e17c-4cf4-9028-58e1fdb803f9",
   "metadata": {},
   "source": [
    "## **Q8.** You have a set of integers s, which originally contains all the numbers from 1 to n. Unfortunately, due to some error, one of the numbers in s got duplicated to another number in the set, which results in repetition of one number and loss of another number.\n",
    "\n",
    "You are given an integer array nums representing the data status of this set after the error.\n",
    "\n",
    "Find the number that occurs twice and the number that is missing and return them in the form of an array.\n",
    "\n",
    "**Example 1:**\n",
    "Input: nums = [1,2,2,4]\n",
    "Output: [2,3]\n",
    "\n",
    " "
   ]
  },
  {
   "cell_type": "code",
   "execution_count": 15,
   "id": "5a59c269-dd77-46e5-9541-92adffb52d05",
   "metadata": {},
   "outputs": [],
   "source": [
    "def find_order(nums):\n",
    "    n = len(nums)\n",
    "    \n",
    "    sum_s1 = n*(n+1) /2          ## sum of first n numbers \n",
    "    square_s1 = n*(n+1)*(2*n + 1)/6 ## sum of square of first n number\n",
    "     \n",
    "    sum_s2 = 0\n",
    "    for i in range(0,n):\n",
    "        sum_s2 = sum_s2 + nums[i]\n",
    "     \n",
    "    square_s2 = 0\n",
    "    for i in range(0,n):\n",
    "        square_s2 = square_s2 + nums[i]*nums[i]\n",
    "    \n",
    "    x = sum_s1 - sum_s2        ## s1 - s2\n",
    "     \n",
    "    y = square_s1 - square_s2  ## s1^2 - s2^2\n",
    "    \n",
    "    z = y/x                   ## s1 + s2\n",
    "     \n",
    "    \n",
    "    s1 = int((x+z)/2)\n",
    "    s2 = int((z-x)/2)\n",
    "    list = [s2,s1]\n",
    "    return  list\n",
    "    \n",
    "        "
   ]
  },
  {
   "cell_type": "code",
   "execution_count": 16,
   "id": "51336a0c-a056-40d1-be91-a8e3bd5279d2",
   "metadata": {},
   "outputs": [
    {
     "name": "stdout",
     "output_type": "stream",
     "text": [
      "Output:  [2, 3]\n"
     ]
    }
   ],
   "source": [
    "nums = [1 , 2 , 2 , 4]\n",
    "result = find_order(nums)\n",
    "print(\"Output: \",result)"
   ]
  }
 ],
 "metadata": {
  "kernelspec": {
   "display_name": "Python 3 (ipykernel)",
   "language": "python",
   "name": "python3"
  },
  "language_info": {
   "codemirror_mode": {
    "name": "ipython",
    "version": 3
   },
   "file_extension": ".py",
   "mimetype": "text/x-python",
   "name": "python",
   "nbconvert_exporter": "python",
   "pygments_lexer": "ipython3",
   "version": "3.10.8"
  },
  "toc-autonumbering": true
 },
 "nbformat": 4,
 "nbformat_minor": 5
}
