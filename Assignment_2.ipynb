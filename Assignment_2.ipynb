{
 "cells": [
  {
   "cell_type": "markdown",
   "id": "0a4a6688-8168-46d8-ac3f-91185d64f253",
   "metadata": {},
   "source": [
    "## **Question 1**\n",
    "Given an integer array nums of 2n integers, group these integers into n pairs (a1, b1), (a2, b2),..., (an, bn) such that the sum of min(ai, bi) for all i is maximized. Return the maximized sum.\n",
    "\n",
    "**Example 1:**\n",
    "Input: nums = [1,4,3,2]\n",
    "Output: 4\n",
    "\n",
    "**Explanation:** All possible pairings (ignoring the ordering of elements) are:\n",
    "\n",
    "1. (1, 4), (2, 3) -> min(1, 4) + min(2, 3) = 1 + 2 = 3\n",
    "2. (1, 3), (2, 4) -> min(1, 3) + min(2, 4) = 1 + 2 = 3\n",
    "3. (1, 2), (3, 4) -> min(1, 2) + min(3, 4) = 1 + 3 = 4\n",
    "So the maximum possible sum is 4\n",
    " "
   ]
  },
  {
   "cell_type": "code",
   "execution_count": 7,
   "id": "f583a945-1c2d-4178-86c5-40e1a25d0181",
   "metadata": {},
   "outputs": [],
   "source": [
    "def pair_sum(nums):\n",
    "    nums.sort()\n",
    "    pair = []\n",
    "    for i in range(0, len(nums), 2):\n",
    "        pair.append(nums[i])\n",
    "    \n",
    "     \n",
    "    \n",
    "    max = nums[0]\n",
    "    n = len(pair)\n",
    "    for i in range(0,n-1):\n",
    "        sum = pair[i] + pair[i+1] \n",
    "        \n",
    "        if(sum > max):\n",
    "            max = sum\n",
    "    return max \n",
    "        "
   ]
  },
  {
   "cell_type": "code",
   "execution_count": 8,
   "id": "12a3bcc2-b2d8-4c05-bac6-6b94ebb2c3d7",
   "metadata": {},
   "outputs": [
    {
     "name": "stdout",
     "output_type": "stream",
     "text": [
      "Output: 4\n"
     ]
    }
   ],
   "source": [
    "nums = [1,4,3,2]\n",
    "result = pair_sum(nums)\n",
    "print(\"Output:\",result)"
   ]
  },
  {
   "cell_type": "markdown",
   "id": "6ae9be1f-ce3b-4d53-91de-3483cfc9ad9a",
   "metadata": {},
   "source": [
    "## Question 2\n",
    "Alice has n candies, where the ith candy is of type candyType[i]. Alice noticed that she started to gain weight, so she visited a doctor. \n",
    "\n",
    "The doctor advised Alice to only eat n / 2 of the candies she has (n is always even). Alice likes her candies very much, and she wants to eat the maximum number of different types of candies while still following the doctor's advice. \n",
    "\n",
    "Given the integer array candyType of length n, return the maximum number of different types of candies she can eat if she only eats n / 2 of them.\n",
    "\n",
    "Example 1:\n",
    "Input: candyType = [1,1,2,2,3,3]\n",
    "Output: 3\n",
    "\n",
    "Explanation: Alice can only eat 6 / 2 = 3 candies. Since there are only 3 types, she can eat one of each type."
   ]
  },
  {
   "cell_type": "code",
   "execution_count": 9,
   "id": "5a5a34f7-c7ef-46c8-bbfc-bc0b0f4404b5",
   "metadata": {},
   "outputs": [],
   "source": [
    "def distributeCandies(candy):\n",
    "    uniqueCandies = set()\n",
    "\n",
    "    for i in candy:\n",
    "        uniqueCandies.add(i)\n",
    "    maxCandies = min(len(uniqueCandies), len(candyType) // 2)\n",
    "\n",
    "    return maxCandies\n"
   ]
  },
  {
   "cell_type": "code",
   "execution_count": 10,
   "id": "8029a637-1a1e-4819-9f94-a4420fe16a8b",
   "metadata": {},
   "outputs": [
    {
     "name": "stdout",
     "output_type": "stream",
     "text": [
      "Output: 3\n"
     ]
    }
   ],
   "source": [
    "candyType = [1, 1, 2, 2, 3, 3]\n",
    "result = distributeCandies(candyType)\n",
    "print(\"Output:\",result)  \n"
   ]
  },
  {
   "cell_type": "markdown",
   "id": "3aa43234-f49d-4858-b8ad-1890c6770e76",
   "metadata": {},
   "source": [
    "## Question 3\n",
    "We define a harmonious array as an array where the difference between its maximum value\n",
    "and its minimum value is exactly 1.\n",
    "\n",
    "Given an integer array nums, return the length of its longest harmonious subsequence\n",
    "among all its possible subsequences.\n",
    "\n",
    "A subsequence of an array is a sequence that can be derived from the array by deleting some or no elements without changing the order of the remaining elements.\n",
    "\n",
    "Example 1:\n",
    "Input: nums = [1,3,2,2,5,2,3,7]\n",
    "Output: 5\n",
    "\n",
    "Explanation: The longest harmonious subsequence is [3,2,2,2,3]."
   ]
  },
  {
   "cell_type": "code",
   "execution_count": 16,
   "id": "2c735e60-b92a-490a-8be0-c3508c6cdbdf",
   "metadata": {},
   "outputs": [],
   "source": [
    "def subsequence(nums):\n",
    "    \n",
    "        map = {}\n",
    "        maxlen = 0\n",
    "\n",
    "        for i in range(len(nums)):\n",
    "            if nums[i] not in map:\n",
    "                map[nums[i]] = 1\n",
    "            else:\n",
    "                map[nums[i]] +=1\n",
    "                \n",
    "        if len(map) <= 1:\n",
    "            return 0\n",
    "\n",
    "        for j in map:\n",
    "            if j + 1 in map:\n",
    "                length = map[j] + map[j + 1]\n",
    "                maxlen = max(maxlen, length)\n",
    "\n",
    "        return maxlen\n",
    "     \n",
    "     "
   ]
  },
  {
   "cell_type": "code",
   "execution_count": 17,
   "id": "974cefa5-7167-4d4d-9863-b700c0003f0b",
   "metadata": {},
   "outputs": [
    {
     "data": {
      "text/plain": [
       "5"
      ]
     },
     "execution_count": 17,
     "metadata": {},
     "output_type": "execute_result"
    }
   ],
   "source": [
    "nums = [1,3,2,2,5,2,3,7]\n",
    "subsequence(nums)"
   ]
  },
  {
   "cell_type": "markdown",
   "id": "9d43e396-d59d-4aa9-801d-e8feaa9fe25e",
   "metadata": {},
   "source": [
    "## Question 4\n",
    "You have a long flowerbed in which some of the plots are planted, and some are not.\n",
    "However, flowers cannot be planted in adjacent plots.\n",
    "Given an integer array flowerbed containing 0's and 1's, where 0 means empty and 1 means not empty, and an integer n, return true if n new flowers can be planted in the flowerbed without violating the no-adjacent-flowers rule and false otherwise.\n",
    "\n",
    "Example 1:\n",
    "Input: flowerbed = [1,0,0,0,1], n = 1\n",
    "Output: true"
   ]
  },
  {
   "cell_type": "code",
   "execution_count": 2,
   "id": "c631dc68-34ae-483f-8183-00487e5da800",
   "metadata": {},
   "outputs": [],
   "source": [
    "def canPlaceFlowers(flowerbed , n):\n",
    "        if n == 0:\n",
    "            return True\n",
    "        for i in range(len(flowerbed)):\n",
    "            if flowerbed[i] == 0 and (i == 0 or flowerbed[i-1] == 0) and (i == len(flowerbed)-1 or flowerbed[i+1] == 0):\n",
    "                flowerbed[i] = 1\n",
    "                n -= 1\n",
    "                if n == 0:\n",
    "                    return True\n",
    "        return False"
   ]
  },
  {
   "cell_type": "code",
   "execution_count": 4,
   "id": "56c71546-3f36-4e27-b3d8-6a2824145d62",
   "metadata": {},
   "outputs": [
    {
     "data": {
      "text/plain": [
       "True"
      ]
     },
     "execution_count": 4,
     "metadata": {},
     "output_type": "execute_result"
    }
   ],
   "source": [
    "flowerbed = [1,0,0,0,1]\n",
    "n = 1\n",
    "canPlaceFlowers(flowerbed,n)"
   ]
  },
  {
   "cell_type": "markdown",
   "id": "ab14b770-ee59-4009-9da1-74cb2cbb951e",
   "metadata": {},
   "source": [
    "## Question 5\n",
    "### Given an integer array nums, find three numbers whose product is maximum and return the maximum product.\n",
    "\n",
    "Example 1:\n",
    "Input: nums = [1,2,3]\n",
    "Output: 6"
   ]
  },
  {
   "cell_type": "code",
   "execution_count": 16,
   "id": "816e73f1-895d-4eb4-bd9f-ede24456d8bf",
   "metadata": {},
   "outputs": [],
   "source": [
    "def max_product(nums):\n",
    "    n=len(nums)\n",
    "    a = nums[0] * nums[1] * nums[2]\n",
    "    b = nums[n-1] * nums[n-2] * nums[n-3]\n",
    "    \n",
    "    if(a>b):\n",
    "        return a\n",
    "    else:\n",
    "        return b"
   ]
  },
  {
   "cell_type": "code",
   "execution_count": 17,
   "id": "e519abb7-895a-4d63-9a70-3a3639b17981",
   "metadata": {},
   "outputs": [
    {
     "data": {
      "text/plain": [
       "6"
      ]
     },
     "execution_count": 17,
     "metadata": {},
     "output_type": "execute_result"
    }
   ],
   "source": [
    "nums = [1,2,3]\n",
    "max_product(nums)"
   ]
  },
  {
   "cell_type": "markdown",
   "id": "15970d6e-ab92-459a-b5aa-5b30acd2398a",
   "metadata": {},
   "source": [
    "## Question 6\n",
    "### Given an array of integers nums which is sorted in ascending order, and an integer target, write a function to search target in nums. If target exists, then return its index. Otherwise,\n",
    "return -1.\n",
    "\n",
    "You must write an algorithm with O(log n) runtime complexity.\n",
    "\n",
    "Input: nums = [-1,0,3,5,9,12], target = 9\n",
    "Output: 4\n",
    "\n",
    "Explanation: 9 exists in nums and its index is 4"
   ]
  },
  {
   "cell_type": "code",
   "execution_count": 19,
   "id": "6bdb163d-80a1-43b5-a236-6f8dc26946b5",
   "metadata": {},
   "outputs": [],
   "source": [
    "def search(nums,target):\n",
    "        l = 0\n",
    "        r = len(nums)-1\n",
    "    \n",
    "        while(l<=r):\n",
    "            mid1 = l+(r-l)//3\n",
    "            mid2 = r-(r-l)//3\n",
    "\n",
    "            if target == nums[mid1]:\n",
    "                return mid1\n",
    "            elif target == nums[mid2]:\n",
    "                return mid2\n",
    "            elif target < nums[mid1]:\n",
    "                 r = mid1-1\n",
    "            elif target > nums[mid2]:\n",
    "                 l = mid2 +1\n",
    "            else:\n",
    "                 l=mid1+1\n",
    "                 r=mid2-1\n",
    "        return -1"
   ]
  },
  {
   "cell_type": "code",
   "execution_count": 20,
   "id": "2edb0883-3fb4-41e1-9c73-162e57657ed4",
   "metadata": {},
   "outputs": [
    {
     "data": {
      "text/plain": [
       "4"
      ]
     },
     "execution_count": 20,
     "metadata": {},
     "output_type": "execute_result"
    }
   ],
   "source": [
    "nums = [-1,0,3,5,9,12]\n",
    "target = 9 \n",
    "search(nums,target)"
   ]
  },
  {
   "cell_type": "markdown",
   "id": "cf494d03-d63f-4779-b118-357d17db8454",
   "metadata": {},
   "source": [
    "## Question 7\n",
    "### An array is monotonic if it is either monotone increasing or monotone decreasing.\n",
    "\n",
    "An array nums is monotone increasing if for all i <= j, nums[i] <= nums[j]. An array nums is\n",
    "monotone decreasing if for all i <= j, nums[i] >= nums[j].\n",
    "\n",
    "Given an integer array nums, return true if the given array is monotonic, or false otherwise.\n",
    "\n",
    "Example 1:\n",
    "Input: nums = [1,2,2,3]\n",
    "Output: true"
   ]
  },
  {
   "cell_type": "code",
   "execution_count": 22,
   "id": "a1dc9856-d736-414c-924d-12a0b8eecdb3",
   "metadata": {},
   "outputs": [],
   "source": [
    "def isMonotonic( nums) :\n",
    "         \n",
    "\n",
    "        if(nums[0]>=nums[-1]):\n",
    "            for i in range(len(nums)-1):\n",
    "                if(nums[i]<nums[i+1]):\n",
    "                    return False\n",
    "             \n",
    "\n",
    "        if(nums[0]<=nums[-1]):\n",
    "            for i in range(len(nums)-1):\n",
    "                if(nums[i]>nums[i+1]):\n",
    "                    return False\n",
    "        \n",
    "        return True"
   ]
  },
  {
   "cell_type": "code",
   "execution_count": 24,
   "id": "e06d47e4-3262-4b5b-bccb-51e65cc6d735",
   "metadata": {},
   "outputs": [
    {
     "data": {
      "text/plain": [
       "True"
      ]
     },
     "execution_count": 24,
     "metadata": {},
     "output_type": "execute_result"
    }
   ],
   "source": [
    "nums = [1,2,2,3] \n",
    "isMonotonic(nums)"
   ]
  },
  {
   "cell_type": "markdown",
   "id": "d57fd635-4a08-4019-b698-a7b1df5d307c",
   "metadata": {},
   "source": [
    "## Question 8\n",
    "### You are given an integer array nums and an integer k.\n",
    "\n",
    "In one operation, you can choose any index i where 0 <= i < nums.length and change nums[i] to nums[i] + x where x is an integer from the range [-k, k]. You can apply this operation at most once for each index i.\n",
    "\n",
    "The score of nums is the difference between the maximum and minimum elements in nums.\n",
    "\n",
    "Return the minimum score of nums after applying the mentioned operation at most once for each index in it.\n",
    "\n",
    "Example 1:\n",
    "Input: nums = [1], k = 0\n",
    "Output: 0\n",
    "\n",
    "Explanation: The score is max(nums) - min(nums) = 1 - 1 = 0."
   ]
  },
  {
   "cell_type": "code",
   "execution_count": 25,
   "id": "78a8b221-d6bc-4eb6-94fa-a5575c2325c8",
   "metadata": {},
   "outputs": [],
   "source": [
    "def smallestRangeI(  nums ):\n",
    "        x=max(nums)\n",
    "        y=min(nums)\n",
    "        return max(0,(x-k)-(y+k))"
   ]
  },
  {
   "cell_type": "code",
   "execution_count": null,
   "id": "021ca956-5f23-4d62-b65a-9618915e15ee",
   "metadata": {},
   "outputs": [],
   "source": [
    "nums = [1]\n",
    "k = 0\n",
    "smallestRangeI"
   ]
  }
 ],
 "metadata": {
  "kernelspec": {
   "display_name": "Python 3 (ipykernel)",
   "language": "python",
   "name": "python3"
  },
  "language_info": {
   "codemirror_mode": {
    "name": "ipython",
    "version": 3
   },
   "file_extension": ".py",
   "mimetype": "text/x-python",
   "name": "python",
   "nbconvert_exporter": "python",
   "pygments_lexer": "ipython3",
   "version": "3.10.8"
  }
 },
 "nbformat": 4,
 "nbformat_minor": 5
}
