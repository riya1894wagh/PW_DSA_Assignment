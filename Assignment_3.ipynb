{
 "cells": [
  {
   "cell_type": "markdown",
   "id": "2c13a3e9-0035-4686-badd-4129de9b0128",
   "metadata": {},
   "source": [
    "## Question 1\n",
    "### Given an integer array nums of length n and an integer target, find three integers in nums such that the sum is closest to the target.\n",
    "Return the sum of the three integers.\n",
    "\n",
    "You may assume that each input would have exactly one solution.\n",
    "\n",
    "Example 1:\n",
    "Input: nums = [-1,2,1,-4], target = 1\n",
    "Output: 2\n",
    "\n",
    "Explanation: The sum that is closest to the target is 2. (-1 + 2 + 1 = 2)."
   ]
  },
  {
   "cell_type": "code",
   "execution_count": 3,
   "id": "263a1ca0-e6cc-4686-bf21-d5b307981021",
   "metadata": {},
   "outputs": [],
   "source": [
    "def threeSumClosest(nums,target):\n",
    "        closet = float('inf')\n",
    "        nums.sort()\n",
    "        for i in range(len(nums) - 2):\n",
    "            l = i+1\n",
    "            r = len(nums) - 1\n",
    "            while l < r:\n",
    "                sum3 = nums[i] + nums[l] + nums[r]\n",
    "                 \n",
    "                if sum3 < target:\n",
    "                    l += 1\n",
    "                else:\n",
    "                    r -=1\n",
    "                if abs(sum3 - target) < abs(closet - target):\n",
    "                    closet = sum3\n",
    "        return closet\n",
    "                "
   ]
  },
  {
   "cell_type": "code",
   "execution_count": 4,
   "id": "8e310337-48e1-4491-b0b0-c2915ded0f41",
   "metadata": {},
   "outputs": [
    {
     "data": {
      "text/plain": [
       "2"
      ]
     },
     "execution_count": 4,
     "metadata": {},
     "output_type": "execute_result"
    }
   ],
   "source": [
    "nums = [-1,2,1,-4]\n",
    "target = 1\n",
    "threeSumClosest(nums,target)"
   ]
  },
  {
   "cell_type": "markdown",
   "id": "1e5037a5-5dd7-4f3d-8d58-74845673b508",
   "metadata": {},
   "source": [
    "## Question 2\n",
    "### Given an array nums of n integers, return an array of all the unique quadruplets\n",
    "[nums[a], nums[b], nums[c], nums[d]] such that:\n",
    "           ● 0 <= a, b, c, d < n\n",
    "           ● a, b, c, and d are distinct.\n",
    "           ● nums[a] + nums[b] + nums[c] + nums[d] == target\n",
    "\n",
    "You may return the answer in any order.\n",
    "\n",
    "Example 1:\n",
    "Input: nums = [1,0,-1,0,-2,2], target = 0\n",
    "Output: [[-2,-1,1,2],[-2,0,0,2],[-1,0,0,1]]"
   ]
  },
  {
   "cell_type": "code",
   "execution_count": 5,
   "id": "66f789ad-ff59-495f-ba5b-bb7b61b028d6",
   "metadata": {},
   "outputs": [],
   "source": [
    "def fourSum(nums,target):\n",
    "        nums.sort()\n",
    "        n=len(nums)\n",
    "        ans = set()\n",
    "\n",
    "        for i in range(n-3):\n",
    "            for j in range(i+1,n-2):\n",
    "                for k in range(j+1,n-1):\n",
    "                    for l in range(k+1,n):\n",
    "                        if( nums[i] + nums[j] + nums[k] + nums[l] == target ):\n",
    "                            ans.add(tuple(sorted((nums[i], nums[j], nums[k], nums[l]))))\n",
    "\n",
    "        res = []\n",
    "        for i in ans:\n",
    "            res += list(i),\n",
    "        return res\n",
    "\n",
    "\n",
    "        "
   ]
  },
  {
   "cell_type": "code",
   "execution_count": 6,
   "id": "e7c99d2c-7a3a-46c4-8d50-2d3fccbbe9a5",
   "metadata": {},
   "outputs": [
    {
     "data": {
      "text/plain": [
       "[[-2, -1, 1, 2], [-1, 0, 0, 1], [-2, 0, 0, 2]]"
      ]
     },
     "execution_count": 6,
     "metadata": {},
     "output_type": "execute_result"
    }
   ],
   "source": [
    "nums = [1,0,-1,0,-2,2]\n",
    "target = 0\n",
    "fourSum(nums,target)\n"
   ]
  },
  {
   "cell_type": "markdown",
   "id": "d51a5e85-92d7-4a86-8e6c-1ef648175694",
   "metadata": {},
   "source": [
    "## **Question 3**\n",
    "### A permutation of an array of integers is an arrangement of its members into a\n",
    "sequence or linear order.\n",
    "\n",
    "For example, for arr = [1,2,3], the following are all the permutations of arr:\n",
    "[1,2,3], [1,3,2], [2, 1, 3], [2, 3, 1], [3,1,2], [3,2,1].\n",
    "\n",
    "The next permutation of an array of integers is the next lexicographically greater\n",
    "permutation of its integer. More formally, if all the permutations of the array are\n",
    "sorted in one container according to their lexicographical order, then the next\n",
    "permutation of that array is the permutation that follows it in the sorted container.\n",
    "\n",
    "If such an arrangement is not possible, the array must be rearranged as the\n",
    "lowest possible order (i.e., sorted in ascending order).\n",
    "\n",
    "● For example, the next permutation of arr = [1,2,3] is [1,3,2].\n",
    "● Similarly, the next permutation of arr = [2,3,1] is [3,1,2].\n",
    "● While the next permutation of arr = [3,2,1] is [1,2,3] because [3,2,1] does not\n",
    "have a lexicographical larger rearrangement.\n",
    "\n",
    "Given an array of integers nums, find the next permutation of nums.\n",
    "The replacement must be in place and use only constant extra memory.\n",
    "\n",
    "**Example 1:**\n",
    "Input: nums = [1,2,3]\n",
    "Output: [1,3,2]\n",
    "\n",
    " "
   ]
  },
  {
   "cell_type": "code",
   "execution_count": 13,
   "id": "0db07ac8-b921-4489-a8fc-384c3fbf379e",
   "metadata": {},
   "outputs": [],
   "source": [
    "def nextPermutation(nums):\n",
    "    # Step 1: Find the first element to swap\n",
    "    i = len(nums) - 2\n",
    "    while i >= 0 and nums[i] >= nums[i + 1]:\n",
    "        i -= 1\n",
    "\n",
    "    # Step 2: Array is in descending order, reverse it\n",
    "    if i == -1:\n",
    "        nums.reverse()\n",
    "        return nums\n",
    "\n",
    "    # Step 3: Find the smallest element to the right of nums[i] that is greater than nums[i]\n",
    "    j = len(nums) - 1\n",
    "    while nums[j] <= nums[i]:\n",
    "        j -= 1\n",
    "\n",
    "    # Step 4: Swap nums[i] and nums[j]\n",
    "    nums[i], nums[j] = nums[j], nums[i]\n",
    "\n",
    "    # Step 5: Reverse the subarray to the right of nums[i]\n",
    "    nums[i + 1:] = nums[i + 1:][::-1]\n",
    "\n",
    "    return nums\n"
   ]
  },
  {
   "cell_type": "code",
   "execution_count": 14,
   "id": "087b9b16-d368-4d92-bf1a-07d46b11955f",
   "metadata": {},
   "outputs": [
    {
     "name": "stdout",
     "output_type": "stream",
     "text": [
      "[1, 3, 2]\n"
     ]
    }
   ],
   "source": [
    "nums = [1, 2, 3]\n",
    "result = nextPermutation(nums)\n",
    "print(result)  # Output: [1, 3, 2]\n"
   ]
  },
  {
   "cell_type": "markdown",
   "id": "6d226e8a-e3a3-4cec-8870-c70ec905f9a9",
   "metadata": {},
   "source": [
    "## Question 4\n",
    "### Given a sorted array of distinct integers and a target value, return the index if the\n",
    "target is found. If not, return the index where it would be if it were inserted in\n",
    "order.\n",
    "\n",
    "You must write an algorithm with O(log n) runtime complexity.\n",
    "\n",
    "Example 1:\n",
    "Input: nums = [1,3,5,6], target = 5\n",
    "Output: 2"
   ]
  },
  {
   "cell_type": "code",
   "execution_count": 7,
   "id": "559f5ef9-c1ef-45b5-aad9-0bde550dd580",
   "metadata": {},
   "outputs": [],
   "source": [
    "    def searchInsert(nums, target):\n",
    "\n",
    "\n",
    "        l = 0 \n",
    "        r = len(nums) - 1\n",
    "        mid = (l+r)//2\n",
    "\n",
    "        while(l<r):\n",
    "\n",
    "             \n",
    "            mid = (l+r)//2\n",
    "            if(nums[mid] == target):\n",
    "                return  mid\n",
    "            elif nums[mid] > target:\n",
    "                r = mid-1\n",
    "            else:\n",
    "                l = mid + 1\n",
    "\n",
    " "
   ]
  },
  {
   "cell_type": "code",
   "execution_count": 8,
   "id": "26cc33d7-a760-4787-bc6d-902b4480c141",
   "metadata": {},
   "outputs": [
    {
     "data": {
      "text/plain": [
       "2"
      ]
     },
     "execution_count": 8,
     "metadata": {},
     "output_type": "execute_result"
    }
   ],
   "source": [
    "nums = [1,3,5,6]\n",
    "target = 5\n",
    "searchInsert(nums,target)"
   ]
  },
  {
   "cell_type": "markdown",
   "id": "5e6bd1d7-5aad-41e9-ab4e-244792924604",
   "metadata": {},
   "source": [
    " ## **Question 5**\n",
    "### You are given a large integer represented as an integer array digits, where each\n",
    "digits[i] is the ith digit of the integer. The digits are ordered from most significant\n",
    "to least significant in left-to-right order. The large integer does not contain any\n",
    "leading 0's.\n",
    "\n",
    "Increment the large integer by one and return the resulting array of digits.\n",
    "\n",
    "**Example 1:**\n",
    "Input: digits = [1,2,3]\n",
    "Output: [1,2,4]\n",
    "\n",
    "**Explanation:** The array represents the integer 123.\n",
    "Incrementing by one gives 123 + 1 = 124.\n",
    "Thus, the result should be [1,2,4].\n",
    "\n",
    "</aside>"
   ]
  },
  {
   "cell_type": "code",
   "execution_count": 9,
   "id": "4f227f00-62be-4041-afe7-f830b2bf8bc8",
   "metadata": {},
   "outputs": [],
   "source": [
    "def add_one(nums):\n",
    "    nums[-1] +=1\n",
    "    return nums"
   ]
  },
  {
   "cell_type": "code",
   "execution_count": 10,
   "id": "fc02b865-5ac4-41e5-aa93-5e75f7a2f8ce",
   "metadata": {},
   "outputs": [
    {
     "data": {
      "text/plain": [
       "[1, 2, 4]"
      ]
     },
     "execution_count": 10,
     "metadata": {},
     "output_type": "execute_result"
    }
   ],
   "source": [
    "digits = [1,2,3]  \n",
    "add_one(digits)"
   ]
  },
  {
   "cell_type": "markdown",
   "id": "b5dff7a0-1054-4923-9cd4-8913c22b0e1e",
   "metadata": {},
   "source": [
    "## Question 6\n",
    "### Given a non-empty array of integers nums, every element appears twice except for one. Find that single one.\n",
    " You must implement a solution with a linear runtime complexity and use only constant extra space.\n",
    "\n",
    "Example 1:\n",
    "Input: nums = [2,2,1]\n",
    "Output: 1"
   ]
  },
  {
   "cell_type": "code",
   "execution_count": 11,
   "id": "41c46ac3-6e49-4504-8aee-74742ef95f6e",
   "metadata": {},
   "outputs": [],
   "source": [
    "def single(nums):\n",
    "        xor = 0\n",
    "        for i in nums:\n",
    "             xor ^= i\n",
    "        return xor"
   ]
  },
  {
   "cell_type": "code",
   "execution_count": 12,
   "id": "378062b4-4a4b-45bf-88fa-f70efd48e936",
   "metadata": {},
   "outputs": [
    {
     "data": {
      "text/plain": [
       "1"
      ]
     },
     "execution_count": 12,
     "metadata": {},
     "output_type": "execute_result"
    }
   ],
   "source": [
    "nums = [2,2,1] \n",
    "single(nums)"
   ]
  },
  {
   "cell_type": "markdown",
   "id": "af9c147a-d3ce-4268-9061-fa0a2b1a5b99",
   "metadata": {},
   "source": [
    "## Question 7\n",
    "### You are given an inclusive range [lower, upper] and a sorted unique integer array nums, where all elements are within the inclusive range.\n",
    "\n",
    "A number x is considered missing if x is in the range [lower, upper] and x is not in\n",
    "nums.\n",
    "\n",
    "Return the shortest sorted list of ranges that exactly covers all the missing\n",
    "numbers. That is, no element of nums is included in any of the ranges, and each\n",
    "missing number is covered by one of the ranges.\n",
    "\n",
    "Example 1:\n",
    "Input: nums = [0,1,3,50,75], lower = 0, upper = 99\n",
    "Output: [[2,2],[4,49],[51,74],[76,99]]\n",
    "\n",
    "Explanation: The ranges are:\n",
    "[2,2]\n",
    "[4,49]\n",
    "[51,74]\n",
    "[76,99]"
   ]
  },
  {
   "cell_type": "code",
   "execution_count": 15,
   "id": "7a972d62-964b-46ac-a9ce-84cf63d9083d",
   "metadata": {},
   "outputs": [],
   "source": [
    "def findMissingRanges(nums, lower, upper):\n",
    "    result = []\n",
    "    if lower < nums[0]:\n",
    "        result.append([lower, nums[0]-1])\n",
    "\n",
    "    for i in range(1, len(nums)):\n",
    "        if nums[i] > nums[i-1] + 1:\n",
    "            result.append([nums[i-1]+1, nums[i]-1])\n",
    "\n",
    "    if upper > nums[-1]:\n",
    "        result.append([nums[-1]+1, upper])\n",
    "\n",
    "    return result\n"
   ]
  },
  {
   "cell_type": "code",
   "execution_count": 16,
   "id": "7db2a7ee-2876-4d80-9a42-3010687d9531",
   "metadata": {},
   "outputs": [
    {
     "name": "stdout",
     "output_type": "stream",
     "text": [
      "[[2, 2], [4, 49], [51, 74], [76, 99]]\n"
     ]
    }
   ],
   "source": [
    "nums = [0, 1, 3, 50, 75]\n",
    "lower = 0\n",
    "upper = 99\n",
    "result = findMissingRanges(nums, lower, upper)\n",
    "print(result)  # Output: [[2, 2], [4, 49], [51, 74], [76, 99]]\n"
   ]
  },
  {
   "cell_type": "markdown",
   "id": "411fde51-9632-4ff8-bda1-a7f1814b7079",
   "metadata": {},
   "source": [
    "## Question 8\n",
    "### Given an array of meeting time intervals where intervals[i] = [starti, endi], determine if a person could attend all meetings.\n",
    "\n",
    "Example 1:\n",
    "Input: intervals = [[0,30],[5,10],[15,20]]\n",
    "Output: false"
   ]
  },
  {
   "cell_type": "code",
   "execution_count": 17,
   "id": "e6fcf6b4-e0f3-4a66-bccf-8730d0fd150a",
   "metadata": {},
   "outputs": [],
   "source": [
    "def canAttendMeetings(intervals):\n",
    "    intervals.sort(key=lambda x: x[0])  # Sort intervals based on start times\n",
    "\n",
    "    for i in range(1, len(intervals)):\n",
    "        if intervals[i][0] < intervals[i-1][1]:\n",
    "            return False\n",
    "\n",
    "    return True\n"
   ]
  },
  {
   "cell_type": "code",
   "execution_count": 18,
   "id": "4270e548-38c4-49ea-b97b-12eb4a556597",
   "metadata": {},
   "outputs": [
    {
     "name": "stdout",
     "output_type": "stream",
     "text": [
      "False\n"
     ]
    }
   ],
   "source": [
    "intervals = [[0, 30], [5, 10], [15, 20]]\n",
    "result = canAttendMeetings(intervals)\n",
    "print(result)  # Output: False\n"
   ]
  }
 ],
 "metadata": {
  "kernelspec": {
   "display_name": "Python 3 (ipykernel)",
   "language": "python",
   "name": "python3"
  },
  "language_info": {
   "codemirror_mode": {
    "name": "ipython",
    "version": 3
   },
   "file_extension": ".py",
   "mimetype": "text/x-python",
   "name": "python",
   "nbconvert_exporter": "python",
   "pygments_lexer": "ipython3",
   "version": "3.10.8"
  }
 },
 "nbformat": 4,
 "nbformat_minor": 5
}
